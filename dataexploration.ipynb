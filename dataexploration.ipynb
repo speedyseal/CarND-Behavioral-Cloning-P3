{
 "cells": [
  {
   "cell_type": "code",
   "execution_count": null,
   "metadata": {},
   "outputs": [],
   "source": [
    "import importlib\n",
    "\n",
    "import numpy as np\n",
    "import scipy\n",
    "import scipy.stats\n",
    "import matplotlib.pyplot as plt\n",
    "\n",
    "import keras\n",
    "from keras import backend as K\n",
    "import train\n",
    "\n",
    "import pandas as pd\n",
    "\n",
    "keras.__version__"
   ]
  },
  {
   "cell_type": "code",
   "execution_count": null,
   "metadata": {},
   "outputs": [],
   "source": [
    "importlib.reload(train)"
   ]
  },
  {
   "cell_type": "code",
   "execution_count": null,
   "metadata": {
    "collapsed": true
   },
   "outputs": [],
   "source": [
    "csvpath = \"./mydata/\"\n",
    "image_path = \"/mnt/g/gshare/carnd/fwd2/IMG/\"\n",
    "#lines = train.loadDriveLog(csvpath)\n",
    "#angles = np.array([float(x[3]) for x in lines])"
   ]
  },
  {
   "cell_type": "code",
   "execution_count": null,
   "metadata": {
    "collapsed": true,
    "scrolled": true
   },
   "outputs": [],
   "source": [
    "df=pd.read_csv(csvpath + \"driving_log.csv\", header=None, names=[\"center\", \"left\", \"right\", \"angle\", \"throttle\", \"brake\", \"speed\"])"
   ]
  },
  {
   "cell_type": "code",
   "execution_count": null,
   "metadata": {},
   "outputs": [],
   "source": [
    "pos_entry = df[df.angle > 0.].iloc[10]\n",
    "neg_entry = df[df.angle < -0.1].iloc[10]; neg_entry\n",
    "zero_entry = df[df.angle == 0.].iloc[10]; zero_entry\n",
    "\n",
    "dfsub = pd.DataFrame([pos_entry, neg_entry, zero_entry]); dfsub"
   ]
  },
  {
   "cell_type": "code",
   "execution_count": null,
   "metadata": {},
   "outputs": [],
   "source": [
    "X_train = train.loadImagesPd(dfsub, image_path)\n",
    "y_train = dfsub[\"angle\"].values\n",
    "\n",
    "print(X_train.shape)\n"
   ]
  },
  {
   "cell_type": "code",
   "execution_count": null,
   "metadata": {
    "collapsed": true
   },
   "outputs": [],
   "source": [
    "# import cv2\n",
    "# filename=dfsub[\"center\"][10].split('\\\\')[-1]\n",
    "# img = train.loadImage(filename, image_path)\n",
    "# plt.imshow(img)\n",
    "# plt.show()\n",
    "\n",
    "# img = cv2.imread(image_path + filename); img\n",
    "# plt.imshow(img)\n",
    "# plt.show()\n",
    "\n",
    "# img = cv2.cvtColor(img, cv2.COLOR_BGR2RGB)\n",
    "# plt.imshow(img)\n",
    "# plt.show()\n",
    "\n",
    "# imgs = np.zeros((2,img.shape[0], img.shape[1], img.shape[2]))\n",
    "# imgs[0,:,:,:] = img\n",
    "# print(img)\n",
    "# print(imgs[0])\n",
    "# plt.imshow(imgs[0])\n",
    "# plt.show()"
   ]
  },
  {
   "cell_type": "code",
   "execution_count": null,
   "metadata": {},
   "outputs": [],
   "source": [
    "print(\"max:\", np.max(X_train))\n",
    "print(\"min:\", np.min(X_train))\n",
    "\n",
    "#import matplotlib.pyplot as plt\n",
    "#from matplotlib.colors import hsv_to_rgb\n",
    "get_ipython().magic('matplotlib inline')\n",
    "# plt.figure(1, figsize=(15,15))\n",
    "for i in range(3):\n",
    "#     plt.subplot(3,1,i+1)\n",
    "    idx = i\n",
    "    plt.imshow(X_train[idx])\n",
    "    plt.axis('off')\n",
    "    plt.title('{}'.format(y_train[idx,]))\n",
    "    plt.show()"
   ]
  },
  {
   "cell_type": "code",
   "execution_count": null,
   "metadata": {},
   "outputs": [],
   "source": [
    "### Plot some statistics\n",
    "print(\"mean:\\t\", np.mean(y_train))\n",
    "print(\"median:\\t\", np.median(y_train))\n",
    "print(\"std:\\t\", np.std(y_train))\n",
    "print(\"mode:\\t\", scipy.stats.mode(y_train))\n",
    "\n",
    "plt.hist(y_train, bins=100)\n",
    "plt.show()"
   ]
  },
  {
   "cell_type": "code",
   "execution_count": null,
   "metadata": {},
   "outputs": [],
   "source": [
    "### check the cropping\n",
    "model = train.nvidiaModel()\n",
    "get_1st_layer_output = K.function([model.layers[0].input],\n",
    "                                  [model.layers[1].output])\n",
    "layer_output = get_1st_layer_output([X_train])[0]\n",
    "plt.imshow(layer_output[2]*0.5 - 0.5)"
   ]
  },
  {
   "cell_type": "code",
   "execution_count": null,
   "metadata": {},
   "outputs": [],
   "source": [
    "history = train.train(model, X_train, y_train, epochs=30)"
   ]
  },
  {
   "cell_type": "code",
   "execution_count": null,
   "metadata": {},
   "outputs": [],
   "source": [
    "y_predict = model.predict(X_train)\n",
    "print(y_predict)\n",
    "print(y_train)"
   ]
  },
  {
   "cell_type": "code",
   "execution_count": null,
   "metadata": {},
   "outputs": [],
   "source": [
    "importlib.reload(train)\n",
    "print(df.iloc[0:10][\"angle\"])\n",
    "\n",
    "#i = np.array([0, 9, 5, 3,])\n",
    "i = np.arange(10)\n",
    "g = train.generate_data(df.iloc[i], image_path, batch_size=4)\n",
    "x,y = next(g)\n",
    "print(x.shape)\n",
    "print(y)"
   ]
  },
  {
   "cell_type": "code",
   "execution_count": null,
   "metadata": {},
   "outputs": [],
   "source": [
    "history=train.train_gen(model, df.iloc[i], image_path, batch_size=32, epochs=20)\n",
    "# help(model.fit_generator)"
   ]
  },
  {
   "cell_type": "code",
   "execution_count": null,
   "metadata": {},
   "outputs": [],
   "source": [
    "X_test = train.loadImagesPd(df.iloc[i], image_path)\n",
    "y_predict = model.predict(X_test)\n",
    "print(y_predict)\n",
    "print(df.iloc[i][\"angle\"])"
   ]
  }
 ],
 "metadata": {
  "kernelspec": {
   "display_name": "Python 3",
   "language": "python",
   "name": "python3"
  },
  "language_info": {
   "codemirror_mode": {
    "name": "ipython",
    "version": 3
   },
   "file_extension": ".py",
   "mimetype": "text/x-python",
   "name": "python",
   "nbconvert_exporter": "python",
   "pygments_lexer": "ipython3",
   "version": "3.5.2"
  },
  "widgets": {
   "state": {},
   "version": "1.1.2"
  }
 },
 "nbformat": 4,
 "nbformat_minor": 2
}
